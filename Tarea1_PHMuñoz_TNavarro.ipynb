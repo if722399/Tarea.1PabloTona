{
 "cells": [
  {
   "cell_type": "markdown",
   "metadata": {},
   "source": [
    "<img style=\"float: left; margin: 30px 15px 15px 15px;\" src=\"https://pngimage.net/wp-content/uploads/2018/06/logo-iteso-png-5.png\" width=\"300\" height=\"500\" /> \n",
    "    \n",
    "    \n",
    "### <font color='navy'> Simulación de procesos financieros. \n",
    "\n",
    "**Nombres:** Pablo Muñoz Cuevas; Tonatiuh Navarro\n",
    "\n",
    "**Fecha:** 01 de junio del 2021.\n",
    "\n",
    "**Expediente** : IF719963; IF...\n",
    "\n",
    "**Profesor:** Oscar David Jaramillo Zuluaga.\n",
    "    \n",
    "**Link Github**: https://github.com/munoz97/Tarea.1PabloTona\n",
    "\n",
    "# Tarea 1a: Clase 2"
   ]
  },
  {
   "cell_type": "markdown",
   "metadata": {},
   "source": [
    "## Enunciado de tarea \n",
    "> El ESTUDIANTE 1 y ESTUDIANTE 2, deben realizar una presentación describiendo sus expectativas del curso y la transcipción de la Figura 1 y Figura 2 respectivamente, haciendo uso de la sintaxis Markdown. Recuerden definir unas celdas donde cada usuario modificará el cuaderno de python para evitar futuros conflictos."
   ]
  },
  {
   "cell_type": "markdown",
   "metadata": {},
   "source": [
    "# Solución Estudiante 1: Pablo Muñoz"
   ]
  },
  {
   "cell_type": "markdown",
   "metadata": {},
   "source": [
    "\n",
    "### Expectativas del curso Estudiante 1\n",
    "\n",
    "- Mis expectativas sobre el curso son mejorar mis conocimientos de la programación, especificamente en python. También seguir estudiando diferentes métodos para utilizar la programación relacionada con las finanzas.\n"
   ]
  },
  {
   "cell_type": "markdown",
   "metadata": {},
   "source": [
    "# Transcripción Figura 1"
   ]
  },
  {
   "cell_type": "markdown",
   "metadata": {},
   "source": [
    "| i  | x  |f(x)|\n",
    "|----|----|----|\n",
    "| 0  | -1 |0.3678|\n",
    "|<span style= \"color:red\">1  |<span style=\"color:red\">-0.5|<span style=\"color:red\">0.7788 |\n",
    "|<span style= \"color:blue\">2|<span style= \"color:blue\">0|<span style= \"color:blue\">1|\n",
    "|<span style= \"color:red\">3  |<span style=\"color:red\">0.5|<span style=\"color:red\">0.7788 |\n",
    "| 4  |  1 |0.3678|\n",
    "    \n",
    "                                                    Cuadro 1: Tabla de valores f(x)"
   ]
  },
  {
   "cell_type": "markdown",
   "metadata": {},
   "source": [
    "$$\n",
    "\\int_{-1}^1\n",
    "\te^{-x^{2}}\\,dx\n",
    "\t\\,\\approx \\frac{0,5}{3}\\,\n",
    "    [f(-1) + f(1) + 4(\n",
    "    \\,\\color{red}{f(-0,5) + f(0,5)}\n",
    "    \\,) + 2\n",
    "    \\, \\color{blue} {f(0)}]\n",
    "$$"
   ]
  },
  {
   "cell_type": "markdown",
   "metadata": {},
   "source": [
    "$$\n",
    "\\approx \\frac{0,5}{3}\n",
    "\\,[0,3678 + 0,3678 + 4(\n",
    "\\, \\color {red}{0,7788 + 0,7788}\n",
    "\\, ) + 2 \n",
    "\\, \\color{blue}{\\cdot 1}\n",
    "\\,] \\approx 1,4943\n",
    "$$"
   ]
  },
  {
   "cell_type": "markdown",
   "metadata": {},
   "source": [
    " A modo de verificación se calculará por software, el valor del área para n= 100, un valor mucho más elevado al que se utilizó anteriormente. Si lo calculamos previamente es correcto, se experaría que sea próximo al valor presentado a continuación para ser una buena aproximación."
   ]
  },
  {
   "cell_type": "markdown",
   "metadata": {},
   "source": [
    "$$\n",
    "\\int_{-1}^{1} e^{-x^{2}} dx \\approx 1.4936\n",
    "$$ "
   ]
  },
  {
   "cell_type": "markdown",
   "metadata": {},
   "source": [
    "### El ESTUDIANTE 1,realizará un programa que imprima la serie de fibonacci para sus primeros 100 términos "
   ]
  },
  {
   "cell_type": "code",
   "execution_count": 11,
   "metadata": {},
   "outputs": [
    {
     "name": "stdout",
     "output_type": "stream",
     "text": [
      "Fibonacci sequence:\n",
      "0\n",
      "1\n",
      "1\n",
      "2\n",
      "3\n",
      "5\n",
      "8\n",
      "13\n",
      "21\n",
      "34\n",
      "55\n",
      "89\n",
      "144\n",
      "233\n",
      "377\n",
      "610\n",
      "987\n",
      "1597\n",
      "2584\n",
      "4181\n",
      "6765\n",
      "10946\n",
      "17711\n",
      "28657\n",
      "46368\n",
      "75025\n",
      "121393\n",
      "196418\n",
      "317811\n",
      "514229\n",
      "832040\n",
      "1346269\n",
      "2178309\n",
      "3524578\n",
      "5702887\n",
      "9227465\n",
      "14930352\n",
      "24157817\n",
      "39088169\n",
      "63245986\n",
      "102334155\n",
      "165580141\n",
      "267914296\n",
      "433494437\n",
      "701408733\n",
      "1134903170\n",
      "1836311903\n",
      "2971215073\n",
      "4807526976\n",
      "7778742049\n",
      "12586269025\n",
      "20365011074\n",
      "32951280099\n",
      "53316291173\n",
      "86267571272\n",
      "139583862445\n",
      "225851433717\n",
      "365435296162\n",
      "591286729879\n",
      "956722026041\n",
      "1548008755920\n",
      "2504730781961\n",
      "4052739537881\n",
      "6557470319842\n",
      "10610209857723\n",
      "17167680177565\n",
      "27777890035288\n",
      "44945570212853\n",
      "72723460248141\n",
      "117669030460994\n",
      "190392490709135\n",
      "308061521170129\n",
      "498454011879264\n",
      "806515533049393\n",
      "1304969544928657\n",
      "2111485077978050\n",
      "3416454622906707\n",
      "5527939700884757\n",
      "8944394323791464\n",
      "14472334024676221\n",
      "23416728348467685\n",
      "37889062373143906\n",
      "61305790721611591\n",
      "99194853094755497\n",
      "160500643816367088\n",
      "259695496911122585\n",
      "420196140727489673\n",
      "679891637638612258\n",
      "1100087778366101931\n",
      "1779979416004714189\n",
      "2880067194370816120\n",
      "4660046610375530309\n",
      "7540113804746346429\n",
      "12200160415121876738\n",
      "19740274219868223167\n",
      "31940434634990099905\n",
      "51680708854858323072\n",
      "83621143489848422977\n",
      "135301852344706746049\n",
      "218922995834555169026\n"
     ]
    }
   ],
   "source": [
    "# Código de solución estudiante 1\n",
    "nterms = 100\n",
    "# primeros 2 términos\n",
    "n1, n2 = 0, 1\n",
    "count = 0\n",
    "print(\"Fibonacci sequence:\")\n",
    "while count < nterms:\n",
    "    print(n1)\n",
    "    nth = n1 + n2\n",
    "    n1 = n2\n",
    "    n2 = nth\n",
    "    count += 1"
   ]
  },
  {
   "cell_type": "markdown",
   "metadata": {},
   "source": [
    "# Estudiante 2\n"
   ]
  },
  {
   "cell_type": "markdown",
   "metadata": {},
   "source": [
    "### Expectativas del curso, estudiante 2:\n",
    "- Espero poder mejorar mis metodos de programación y realziar códigos de manera más efectiva, asi como también realziar programas más enfocados en las finanzas."
   ]
  },
  {
   "cell_type": "markdown",
   "metadata": {},
   "source": [
    "- Figura 1"
   ]
  },
  {
   "cell_type": "markdown",
   "metadata": {},
   "source": [
    "|   i                  | 1 | 2 | 3 | 4 | 5 | 6 | 7 |   \n",
    "|----------------------|---|---|---|---|---|---|---|\n",
    "| $E_{v}$ ( V)       | 12| 10| 24| 12| - | - |  -|\n",
    "|$r_{i}$ $(\\Omega $) | 0.1 | 0.5 | 0.2 | 0.5 | - | - | - |\n",
    "|$R_{i}$ $(\\Omega $) |  25| 40 | 16 | 20 | 9 | 4 | 20 |"
   ]
  },
  {
   "cell_type": "markdown",
   "metadata": {},
   "source": [
    "$\\color{blue} {Kemna y Vorst (1990)}$ muestran que las opciones asiáticas con media geométrica continua se pueden valuar con el mismo enfoque de las opciones plain vanilla, solo se deben cambiar los parámetros de volatilidad $\\sigma$ por $\\sigma_a$, y el costo de acarreo $b$ por $b_A$.\n",
    "\n",
    "De acuerdo con Kemna y Vorst, las fórmulas para valuar una opción de compra y una opción de venta son:"
   ]
  },
  {
   "cell_type": "markdown",
   "metadata": {},
   "source": [
    "$$ \n",
    "c \\approx S_t e^{(b_A-r)(T-t)} \\phi(d_1)-Ke^{-r(T-t)} \\phi(d_2),\n",
    "$$"
   ]
  },
  {
   "cell_type": "markdown",
   "metadata": {},
   "source": [
    "$$\n",
    "p\\approx Ke^{(T-t)}\\phi(-d_2)-S_te^{(b_A-r)(T-t)}\\phi(-d_1).\n",
    "$$"
   ]
  },
  {
   "cell_type": "markdown",
   "metadata": {},
   "source": [
    "con d_1 y d_2 dados por:"
   ]
  },
  {
   "cell_type": "markdown",
   "metadata": {},
   "source": [
    "$$\n",
    "d_1 =\\frac{ln(S_t/K)+(b_A+1/2\\sigma^2_a)(T-t)}{\\sigma\\sqrt{T-t}},\n",
    "$$"
   ]
  },
  {
   "cell_type": "markdown",
   "metadata": {},
   "source": [
    "$$\n",
    "d_2 = d_1-\\sigma_a\\sqrt{T-t}\n",
    "$$"
   ]
  },
  {
   "cell_type": "markdown",
   "metadata": {},
   "source": [
    "La función $\\phi$(d) es la función de distribución acumulada de $E\\approx N(0,1)$. La volatilidad ajustada es igual a:"
   ]
  },
  {
   "cell_type": "markdown",
   "metadata": {},
   "source": [
    "$\\sigma_a=\\frac{\\sigma}{\\sqrt{3}},$"
   ]
  },
  {
   "cell_type": "markdown",
   "metadata": {},
   "source": [
    "Mientras que el costo de acarreo ajustado es de:"
   ]
  },
  {
   "cell_type": "markdown",
   "metadata": {},
   "source": [
    "$b_A= \\frac{1}{2}(v-\\frac{\\sigma^2}{6}).$"
   ]
  },
  {
   "cell_type": "markdown",
   "metadata": {},
   "source": [
    "### El estudiante 2 generará un programa que muestre los números primos del 0-100."
   ]
  },
  {
   "cell_type": "code",
   "execution_count": 41,
   "metadata": {},
   "outputs": [
    {
     "data": {
      "text/plain": [
       "[1,\n",
       " 2,\n",
       " 3,\n",
       " 5,\n",
       " 7,\n",
       " 11,\n",
       " 13,\n",
       " 17,\n",
       " 19,\n",
       " 23,\n",
       " 29,\n",
       " 31,\n",
       " 37,\n",
       " 41,\n",
       " 43,\n",
       " 47,\n",
       " 53,\n",
       " 59,\n",
       " 61,\n",
       " 67,\n",
       " 71,\n",
       " 73,\n",
       " 79,\n",
       " 83,\n",
       " 89,\n",
       " 97]"
      ]
     },
     "execution_count": 41,
     "metadata": {},
     "output_type": "execute_result"
    }
   ],
   "source": [
    "# Código de solución estudiante 2\n",
    "\n",
    "# Primero creamos una función que nos haga la distinción entre primo y no primo\n",
    "\n",
    "def primo(primo):\n",
    "    for i in range(2, primo):\n",
    "        if primo % i == 0:\n",
    "            return False\n",
    "    else:\n",
    "        return primo\n",
    "\n",
    "k =[]\n",
    "\n",
    "for j in range (100):\n",
    "    if (primo(j)) != False:\n",
    "        k.append(primo(j))\n",
    "k"
   ]
  }
 ],
 "metadata": {
  "kernelspec": {
   "display_name": "Python 3",
   "language": "python",
   "name": "python3"
  },
  "language_info": {
   "codemirror_mode": {
    "name": "ipython",
    "version": 3
   },
   "file_extension": ".py",
   "mimetype": "text/x-python",
   "name": "python",
   "nbconvert_exporter": "python",
   "pygments_lexer": "ipython3",
   "version": "3.8.3"
  }
 },
 "nbformat": 4,
 "nbformat_minor": 2
}
